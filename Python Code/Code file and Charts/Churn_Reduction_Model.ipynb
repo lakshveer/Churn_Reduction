{
 "cells": [
  {
   "cell_type": "code",
   "execution_count": 2,
   "metadata": {},
   "outputs": [],
   "source": [
    "import pandas as pd\n",
    "import matplotlib as mpl\n",
    "import pylab as plt\n",
    "import numpy as np\n",
    "from fancyimpute import KNN  \n",
    "import seaborn as sns\n",
    "\n",
    "from collections import Counter\n",
    "from sklearn.datasets import make_classification\n",
    "from imblearn.over_sampling import SMOTE \n",
    "\n",
    "from sklearn.model_selection import train_test_split\n",
    "from scipy.stats import chi2_contingency\n",
    "\n",
    "from sklearn import metrics\n",
    "from ggplot import *"
   ]
  },
  {
   "cell_type": "code",
   "execution_count": 3,
   "metadata": {
    "collapsed": true
   },
   "outputs": [],
   "source": [
    "#Importing data set\n",
    "train_data = pd.read_csv(\"Train_data.csv\")\n",
    "test_data = pd.read_csv(\"Test_data.csv\")"
   ]
  },
  {
   "cell_type": "code",
   "execution_count": 4,
   "metadata": {
    "collapsed": true
   },
   "outputs": [],
   "source": [
    "#Complete data\n",
    "complete_data = pd.concat([train_data.iloc[:,:], test_data.iloc[:,:]])\n",
    "complete_data = complete_data.reset_index(drop = True)"
   ]
  },
  {
   "cell_type": "code",
   "execution_count": 5,
   "metadata": {},
   "outputs": [
    {
     "data": {
      "text/plain": [
       "state                             object\n",
       "account length                     int64\n",
       "area code                          int64\n",
       "phone number                      object\n",
       "international plan                object\n",
       "voice mail plan                   object\n",
       "number vmail messages              int64\n",
       "total day minutes                float64\n",
       "total day calls                    int64\n",
       "total day charge                 float64\n",
       "total eve minutes                float64\n",
       "total eve calls                    int64\n",
       "total eve charge                 float64\n",
       "total night minutes              float64\n",
       "total night calls                  int64\n",
       "total night charge               float64\n",
       "total intl minutes               float64\n",
       "total intl calls                   int64\n",
       "total intl charge                float64\n",
       "number customer service calls      int64\n",
       "Churn                             object\n",
       "dtype: object"
      ]
     },
     "execution_count": 5,
     "metadata": {},
     "output_type": "execute_result"
    }
   ],
   "source": [
    "complete_data.dtypes"
   ]
  },
  {
   "cell_type": "code",
   "execution_count": 6,
   "metadata": {},
   "outputs": [
    {
     "name": "stdout",
     "output_type": "stream",
     "text": [
      "           :     Train:     Test\n",
      "Observations:     3333 :    1667\n",
      "Percentage:       67   :    33\n"
     ]
    }
   ],
   "source": [
    "#Getting the percentage of train and test data\n",
    "nrow_train = train_data.shape[0]\n",
    "nrow_test = test_data.shape[0]\n",
    "sum = nrow_train + nrow_test\n",
    "print(\"           :     Train:     Test\")\n",
    "print(\"Observations:    \",   nrow_train, \":   \",       nrow_test)\n",
    "print(\"Percentage:      \",   round((nrow_train*100)/sum)   ,\"  :   \"   ,       round((nrow_test*100)/sum))"
   ]
  },
  {
   "cell_type": "code",
   "execution_count": 7,
   "metadata": {},
   "outputs": [
    {
     "name": "stdout",
     "output_type": "stream",
     "text": [
      "             :Churned         :Not Churned\n",
      "Total:        707 :            4293\n",
      "Percentage:   14.14 :          85.86\n"
     ]
    }
   ],
   "source": [
    "#Class Imbalance in Complete data\n",
    "#Positve cases are the churn out customer, negative who didn't churn out\n",
    "no_positive_cases = complete_data.loc[complete_data.Churn == ' True.'].shape[0]\n",
    "no_negative_cases = complete_data.loc[complete_data.Churn == ' False.'].shape[0]\n",
    "print(\"             :Churned         :Not Churned\")\n",
    "print(\"Total:       \", no_positive_cases,\":           \",no_negative_cases)\n",
    "print(\"Percentage:  \", no_positive_cases*100/sum, \":         \", no_negative_cases*100/sum)\n"
   ]
  },
  {
   "cell_type": "markdown",
   "metadata": {},
   "source": [
    "# Completeness of Data"
   ]
  },
  {
   "cell_type": "code",
   "execution_count": 8,
   "metadata": {},
   "outputs": [
    {
     "data": {
      "text/html": [
       "<div>\n",
       "<style>\n",
       "    .dataframe thead tr:only-child th {\n",
       "        text-align: right;\n",
       "    }\n",
       "\n",
       "    .dataframe thead th {\n",
       "        text-align: left;\n",
       "    }\n",
       "\n",
       "    .dataframe tbody tr th {\n",
       "        vertical-align: top;\n",
       "    }\n",
       "</style>\n",
       "<table border=\"1\" class=\"dataframe\">\n",
       "  <thead>\n",
       "    <tr style=\"text-align: right;\">\n",
       "      <th></th>\n",
       "      <th>Features</th>\n",
       "      <th>Count</th>\n",
       "    </tr>\n",
       "  </thead>\n",
       "  <tbody>\n",
       "    <tr>\n",
       "      <th>0</th>\n",
       "      <td>state</td>\n",
       "      <td>0</td>\n",
       "    </tr>\n",
       "    <tr>\n",
       "      <th>1</th>\n",
       "      <td>account length</td>\n",
       "      <td>0</td>\n",
       "    </tr>\n",
       "    <tr>\n",
       "      <th>2</th>\n",
       "      <td>area code</td>\n",
       "      <td>0</td>\n",
       "    </tr>\n",
       "    <tr>\n",
       "      <th>3</th>\n",
       "      <td>phone number</td>\n",
       "      <td>0</td>\n",
       "    </tr>\n",
       "    <tr>\n",
       "      <th>4</th>\n",
       "      <td>international plan</td>\n",
       "      <td>0</td>\n",
       "    </tr>\n",
       "    <tr>\n",
       "      <th>5</th>\n",
       "      <td>voice mail plan</td>\n",
       "      <td>0</td>\n",
       "    </tr>\n",
       "    <tr>\n",
       "      <th>6</th>\n",
       "      <td>number vmail messages</td>\n",
       "      <td>0</td>\n",
       "    </tr>\n",
       "    <tr>\n",
       "      <th>7</th>\n",
       "      <td>total day minutes</td>\n",
       "      <td>0</td>\n",
       "    </tr>\n",
       "    <tr>\n",
       "      <th>8</th>\n",
       "      <td>total day calls</td>\n",
       "      <td>0</td>\n",
       "    </tr>\n",
       "    <tr>\n",
       "      <th>9</th>\n",
       "      <td>total day charge</td>\n",
       "      <td>0</td>\n",
       "    </tr>\n",
       "    <tr>\n",
       "      <th>10</th>\n",
       "      <td>total eve minutes</td>\n",
       "      <td>0</td>\n",
       "    </tr>\n",
       "    <tr>\n",
       "      <th>11</th>\n",
       "      <td>total eve calls</td>\n",
       "      <td>0</td>\n",
       "    </tr>\n",
       "    <tr>\n",
       "      <th>12</th>\n",
       "      <td>total eve charge</td>\n",
       "      <td>0</td>\n",
       "    </tr>\n",
       "    <tr>\n",
       "      <th>13</th>\n",
       "      <td>total night minutes</td>\n",
       "      <td>0</td>\n",
       "    </tr>\n",
       "    <tr>\n",
       "      <th>14</th>\n",
       "      <td>total night calls</td>\n",
       "      <td>0</td>\n",
       "    </tr>\n",
       "    <tr>\n",
       "      <th>15</th>\n",
       "      <td>total night charge</td>\n",
       "      <td>0</td>\n",
       "    </tr>\n",
       "    <tr>\n",
       "      <th>16</th>\n",
       "      <td>total intl minutes</td>\n",
       "      <td>0</td>\n",
       "    </tr>\n",
       "    <tr>\n",
       "      <th>17</th>\n",
       "      <td>total intl calls</td>\n",
       "      <td>0</td>\n",
       "    </tr>\n",
       "    <tr>\n",
       "      <th>18</th>\n",
       "      <td>total intl charge</td>\n",
       "      <td>0</td>\n",
       "    </tr>\n",
       "    <tr>\n",
       "      <th>19</th>\n",
       "      <td>number customer service calls</td>\n",
       "      <td>0</td>\n",
       "    </tr>\n",
       "    <tr>\n",
       "      <th>20</th>\n",
       "      <td>Churn</td>\n",
       "      <td>0</td>\n",
       "    </tr>\n",
       "  </tbody>\n",
       "</table>\n",
       "</div>"
      ],
      "text/plain": [
       "                         Features  Count\n",
       "0                           state      0\n",
       "1                  account length      0\n",
       "2                       area code      0\n",
       "3                    phone number      0\n",
       "4              international plan      0\n",
       "5                 voice mail plan      0\n",
       "6           number vmail messages      0\n",
       "7               total day minutes      0\n",
       "8                 total day calls      0\n",
       "9                total day charge      0\n",
       "10              total eve minutes      0\n",
       "11                total eve calls      0\n",
       "12               total eve charge      0\n",
       "13            total night minutes      0\n",
       "14              total night calls      0\n",
       "15             total night charge      0\n",
       "16             total intl minutes      0\n",
       "17               total intl calls      0\n",
       "18              total intl charge      0\n",
       "19  number customer service calls      0\n",
       "20                          Churn      0"
      ]
     },
     "execution_count": 8,
     "metadata": {},
     "output_type": "execute_result"
    }
   ],
   "source": [
    "#Creating a dataframe of missing values\n",
    "Missing_value = pd.DataFrame(complete_data.isnull().sum())\n",
    "Missing_value = Missing_value.reset_index()\n",
    "Missing_value = Missing_value.rename(columns = { 'index' : 'Features', 0 : 'Count'})\n",
    "Missing_value"
   ]
  },
  {
   "cell_type": "markdown",
   "metadata": {},
   "source": [
    "There are no missing value in the data"
   ]
  },
  {
   "cell_type": "markdown",
   "metadata": {},
   "source": [
    "# Anomaly Detection"
   ]
  },
  {
   "cell_type": "code",
   "execution_count": 9,
   "metadata": {
    "collapsed": true
   },
   "outputs": [],
   "source": [
    "df = complete_data.copy()\n",
    "#Putting all the numeric variables in the list\n",
    "numeric_var = ['account length', 'number vmail messages','total day minutes', 'total day calls', 'total day charge', 'total eve minutes',\n",
    "               'total eve calls', 'total eve charge', 'total night minutes', 'total night calls', 'total night charge',\n",
    "               'total intl minutes', 'total intl calls', 'total intl charge']\n"
   ]
  },
  {
   "cell_type": "code",
   "execution_count": 10,
   "metadata": {},
   "outputs": [
    {
     "data": {
      "image/png": "[encoded data removed]",
      "text/plain": [
       "<matplotlib.figure.Figure at 0x17fd45c00f0>"
      ]
     },
     "metadata": {},
     "output_type": "display_data"
    },
    {
     "data": {
      "image/png": "[encoded data removed]",
      "text/plain": [
       "<matplotlib.figure.Figure at 0x17fd4a35eb8>"
      ]
     },
     "metadata": {},
     "output_type": "display_data"
    },
    {
     "data": {
      "image/png": "[encoded data removed]",
      "text/plain": [
       "<matplotlib.figure.Figure at 0x17fd4aabe80>"
      ]
     },
     "metadata": {},
     "output_type": "display_data"
    },
    {
     "data": {
      "image/png": "[encoded data removed]",
      "text/plain": [
       "<matplotlib.figure.Figure at 0x17fd4b16c88>"
      ]
     },
     "metadata": {},
     "output_type": "display_data"
    },
    {
     "data": {
      "image/png": "[encoded data removed]",
      "text/plain": [
       "<matplotlib.figure.Figure at 0x17fd4b82e10>"
      ]
     },
     "metadata": {},
     "output_type": "display_data"
    },
    {
     "data": {
      "image/png": "[encoded data removed]",
      "text/plain": [
       "<matplotlib.figure.Figure at 0x17fd4c12eb8>"
      ]
     },
     "metadata": {},
     "output_type": "display_data"
    },
    {
     "data": {
      "image/png": "[encoded data removed]",
      "text/plain": [
       "<matplotlib.figure.Figure at 0x17fd4b4a630>"
      ]
     },
     "metadata": {},
     "output_type": "display_data"
    },
    {
     "data": {
      "image/png": "[encoded data removed]",
      "text/plain": [
       "<matplotlib.figure.Figure at 0x17fd4a18160>"
      ]
     },
     "metadata": {},
     "output_type": "display_data"
    },
    {
     "data": {
      "image/png": "[encoded data removed]",
      "text/plain": [
       "<matplotlib.figure.Figure at 0x17fd4bb8da0>"
      ]
     },
     "metadata": {},
     "output_type": "display_data"
    },
    {
     "data": {
      "image/png": "[encoded data removed]",
      "text/plain": [
       "<matplotlib.figure.Figure at 0x17fd4b580f0>"
      ]
     },
     "metadata": {},
     "output_type": "display_data"
    },
    {
     "data": {
      "image/png": "[encoded data removed]",
      "text/plain": [
       "<matplotlib.figure.Figure at 0x17fd4b01278>"
      ]
     },
     "metadata": {},
     "output_type": "display_data"
    },
    {
     "data": {
      "image/png": "[encoded data removed]",
      "text/plain": [
       "<matplotlib.figure.Figure at 0x17fd4c8bf28>"
      ]
     },
     "metadata": {},
     "output_type": "display_data"
    },
    {
     "data": {
      "image/png": "[encoded data removed]",
      "text/plain": [
       "<matplotlib.figure.Figure at 0x17fd4687be0>"
      ]
     },
     "metadata": {},
     "output_type": "display_data"
    },
    {
     "data": {
      "image/png": "[encoded data removed]",
      "text/plain": [
       "<matplotlib.figure.Figure at 0x17fd4d54d68>"
      ]
     },
     "metadata": {},
     "output_type": "display_data"
    }
   ],
   "source": [
    "#%matplotlib inline\n",
    "for i in numeric_var :\n",
    "    plt.figure()\n",
    "    plt.clf()\n",
    "    plt.boxplot(complete_data[i])\n",
    "    plt.title(i)\n",
    "    plt.savefig(i)\n",
    "    plt.show()"
   ]
  },
  {
   "cell_type": "code",
   "execution_count": 11,
   "metadata": {},
   "outputs": [
    {
     "name": "stdout",
     "output_type": "stream",
     "text": [
      "<built-in function min>\n",
      "<built-in function max>\n",
      "<built-in function min>\n",
      "<built-in function max>\n",
      "<built-in function min>\n",
      "<built-in function max>\n",
      "<built-in function min>\n",
      "<built-in function max>\n",
      "<built-in function min>\n",
      "<built-in function max>\n",
      "<built-in function min>\n",
      "<built-in function max>\n",
      "<built-in function min>\n",
      "<built-in function max>\n",
      "<built-in function min>\n",
      "<built-in function max>\n",
      "<built-in function min>\n",
      "<built-in function max>\n",
      "<built-in function min>\n",
      "<built-in function max>\n",
      "<built-in function min>\n",
      "<built-in function max>\n",
      "<built-in function min>\n",
      "<built-in function max>\n",
      "<built-in function min>\n",
      "<built-in function max>\n",
      "<built-in function min>\n",
      "<built-in function max>\n"
     ]
    }
   ],
   "source": [
    "for i in numeric_var:\n",
    "    q75, q25 = np.percentile(complete_data.loc[:,i], [75, 25])\n",
    "    iqr = q75 - q25\n",
    "    minimum = q25 - (iqr*1.5)\n",
    "    maximum = q75 + (iqr*1.5)\n",
    "    print(min), print(max)\n",
    "    complete_data.loc[complete_data[i] < minimum,i] = np.nan\n",
    "    complete_data.loc[complete_data[i] > maximum, i] = np.nan"
   ]
  },
  {
   "cell_type": "code",
   "execution_count": 12,
   "metadata": {},
   "outputs": [
    {
     "data": {
      "text/html": [
       "<div>\n",
       "<style>\n",
       "    .dataframe thead tr:only-child th {\n",
       "        text-align: right;\n",
       "    }\n",
       "\n",
       "    .dataframe thead th {\n",
       "        text-align: left;\n",
       "    }\n",
       "\n",
       "    .dataframe tbody tr th {\n",
       "        vertical-align: top;\n",
       "    }\n",
       "</style>\n",
       "<table border=\"1\" class=\"dataframe\">\n",
       "  <thead>\n",
       "    <tr style=\"text-align: right;\">\n",
       "      <th></th>\n",
       "      <th>0</th>\n",
       "    </tr>\n",
       "  </thead>\n",
       "  <tbody>\n",
       "    <tr>\n",
       "      <th>state</th>\n",
       "      <td>0</td>\n",
       "    </tr>\n",
       "    <tr>\n",
       "      <th>account length</th>\n",
       "      <td>24</td>\n",
       "    </tr>\n",
       "    <tr>\n",
       "      <th>area code</th>\n",
       "      <td>0</td>\n",
       "    </tr>\n",
       "    <tr>\n",
       "      <th>phone number</th>\n",
       "      <td>0</td>\n",
       "    </tr>\n",
       "    <tr>\n",
       "      <th>international plan</th>\n",
       "      <td>0</td>\n",
       "    </tr>\n",
       "    <tr>\n",
       "      <th>voice mail plan</th>\n",
       "      <td>0</td>\n",
       "    </tr>\n",
       "    <tr>\n",
       "      <th>number vmail messages</th>\n",
       "      <td>60</td>\n",
       "    </tr>\n",
       "    <tr>\n",
       "      <th>total day minutes</th>\n",
       "      <td>34</td>\n",
       "    </tr>\n",
       "    <tr>\n",
       "      <th>total day calls</th>\n",
       "      <td>35</td>\n",
       "    </tr>\n",
       "    <tr>\n",
       "      <th>total day charge</th>\n",
       "      <td>34</td>\n",
       "    </tr>\n",
       "    <tr>\n",
       "      <th>total eve minutes</th>\n",
       "      <td>43</td>\n",
       "    </tr>\n",
       "    <tr>\n",
       "      <th>total eve calls</th>\n",
       "      <td>27</td>\n",
       "    </tr>\n",
       "    <tr>\n",
       "      <th>total eve charge</th>\n",
       "      <td>42</td>\n",
       "    </tr>\n",
       "    <tr>\n",
       "      <th>total night minutes</th>\n",
       "      <td>39</td>\n",
       "    </tr>\n",
       "    <tr>\n",
       "      <th>total night calls</th>\n",
       "      <td>43</td>\n",
       "    </tr>\n",
       "    <tr>\n",
       "      <th>total night charge</th>\n",
       "      <td>39</td>\n",
       "    </tr>\n",
       "    <tr>\n",
       "      <th>total intl minutes</th>\n",
       "      <td>72</td>\n",
       "    </tr>\n",
       "    <tr>\n",
       "      <th>total intl calls</th>\n",
       "      <td>118</td>\n",
       "    </tr>\n",
       "    <tr>\n",
       "      <th>total intl charge</th>\n",
       "      <td>72</td>\n",
       "    </tr>\n",
       "    <tr>\n",
       "      <th>number customer service calls</th>\n",
       "      <td>0</td>\n",
       "    </tr>\n",
       "    <tr>\n",
       "      <th>Churn</th>\n",
       "      <td>0</td>\n",
       "    </tr>\n",
       "  </tbody>\n",
       "</table>\n",
       "</div>"
      ],
      "text/plain": [
       "                                 0\n",
       "state                            0\n",
       "account length                  24\n",
       "area code                        0\n",
       "phone number                     0\n",
       "international plan               0\n",
       "voice mail plan                  0\n",
       "number vmail messages           60\n",
       "total day minutes               34\n",
       "total day calls                 35\n",
       "total day charge                34\n",
       "total eve minutes               43\n",
       "total eve calls                 27\n",
       "total eve charge                42\n",
       "total night minutes             39\n",
       "total night calls               43\n",
       "total night charge              39\n",
       "total intl minutes              72\n",
       "total intl calls               118\n",
       "total intl charge               72\n",
       "number customer service calls    0\n",
       "Churn                            0"
      ]
     },
     "execution_count": 12,
     "metadata": {},
     "output_type": "execute_result"
    }
   ],
   "source": [
    "Missing_val_Outliers = pd.DataFrame(complete_data.isnull().sum())\n",
    "Missing_val_Outliers"
   ]
  },
  {
   "cell_type": "code",
   "execution_count": 13,
   "metadata": {
    "collapsed": true
   },
   "outputs": [],
   "source": [
    "#KNN imputation\n",
    "#Assigning levels to the categories\n",
    "lis = []\n",
    "for i in range(0, complete_data.shape[1]):\n",
    "    #print(i)\n",
    "    if(complete_data.iloc[:,i].dtypes == 'object'):\n",
    "        complete_data.iloc[:,i] = pd.Categorical(complete_data.iloc[:,i])\n",
    "        complete_data.iloc[:,i] = complete_data.iloc[:,i].cat.codes \n",
    "        complete_data.iloc[:,i] = complete_data.iloc[:,i].astype('object')\n",
    "        \n",
    "        lis.append(complete_data.columns[i])"
   ]
  },
  {
   "cell_type": "code",
   "execution_count": 14,
   "metadata": {},
   "outputs": [
    {
     "name": "stdout",
     "output_type": "stream",
     "text": [
      "Imputing row 1/5000 with 0 missing, elapsed time: 10.839\n",
      "Imputing row 101/5000 with 0 missing, elapsed time: 10.839\n",
      "Imputing row 201/5000 with 0 missing, elapsed time: 10.839\n",
      "Imputing row 301/5000 with 0 missing, elapsed time: 10.839\n",
      "Imputing row 401/5000 with 0 missing, elapsed time: 10.839\n",
      "Imputing row 501/5000 with 0 missing, elapsed time: 10.839\n",
      "Imputing row 601/5000 with 0 missing, elapsed time: 10.855\n",
      "Imputing row 701/5000 with 0 missing, elapsed time: 10.857\n",
      "Imputing row 801/5000 with 0 missing, elapsed time: 10.859\n",
      "Imputing row 901/5000 with 0 missing, elapsed time: 10.861\n",
      "Imputing row 1001/5000 with 0 missing, elapsed time: 10.862\n",
      "Imputing row 1101/5000 with 0 missing, elapsed time: 10.863\n",
      "Imputing row 1201/5000 with 1 missing, elapsed time: 10.869\n",
      "Imputing row 1301/5000 with 0 missing, elapsed time: 10.870\n",
      "Imputing row 1401/5000 with 2 missing, elapsed time: 10.870\n",
      "Imputing row 1501/5000 with 0 missing, elapsed time: 10.875\n",
      "Imputing row 1601/5000 with 0 missing, elapsed time: 10.877\n",
      "Imputing row 1701/5000 with 0 missing, elapsed time: 10.878\n",
      "Imputing row 1801/5000 with 0 missing, elapsed time: 10.879\n",
      "Imputing row 1901/5000 with 0 missing, elapsed time: 10.880\n",
      "Imputing row 2001/5000 with 0 missing, elapsed time: 10.880\n",
      "Imputing row 2101/5000 with 0 missing, elapsed time: 10.880\n",
      "Imputing row 2201/5000 with 0 missing, elapsed time: 10.880\n",
      "Imputing row 2301/5000 with 0 missing, elapsed time: 10.880\n",
      "Imputing row 2401/5000 with 0 missing, elapsed time: 10.880\n",
      "Imputing row 2501/5000 with 0 missing, elapsed time: 10.880\n",
      "Imputing row 2601/5000 with 0 missing, elapsed time: 10.880\n",
      "Imputing row 2701/5000 with 1 missing, elapsed time: 10.880\n",
      "Imputing row 2801/5000 with 0 missing, elapsed time: 10.880\n",
      "Imputing row 2901/5000 with 0 missing, elapsed time: 10.897\n",
      "Imputing row 3001/5000 with 0 missing, elapsed time: 10.898\n",
      "Imputing row 3101/5000 with 0 missing, elapsed time: 10.900\n",
      "Imputing row 3201/5000 with 0 missing, elapsed time: 10.900\n",
      "Imputing row 3301/5000 with 0 missing, elapsed time: 10.903\n",
      "Imputing row 3401/5000 with 2 missing, elapsed time: 10.904\n",
      "Imputing row 3501/5000 with 0 missing, elapsed time: 10.905\n",
      "Imputing row 3601/5000 with 0 missing, elapsed time: 10.906\n",
      "Imputing row 3701/5000 with 0 missing, elapsed time: 10.906\n",
      "Imputing row 3801/5000 with 1 missing, elapsed time: 10.906\n",
      "Imputing row 3901/5000 with 0 missing, elapsed time: 10.906\n",
      "Imputing row 4001/5000 with 0 missing, elapsed time: 10.906\n",
      "Imputing row 4101/5000 with 0 missing, elapsed time: 10.906\n",
      "Imputing row 4201/5000 with 0 missing, elapsed time: 10.906\n",
      "Imputing row 4301/5000 with 0 missing, elapsed time: 10.906\n",
      "Imputing row 4401/5000 with 0 missing, elapsed time: 10.906\n",
      "Imputing row 4501/5000 with 0 missing, elapsed time: 10.922\n",
      "Imputing row 4601/5000 with 0 missing, elapsed time: 10.924\n",
      "Imputing row 4701/5000 with 0 missing, elapsed time: 10.926\n",
      "Imputing row 4801/5000 with 0 missing, elapsed time: 10.928\n",
      "Imputing row 4901/5000 with 0 missing, elapsed time: 10.930\n"
     ]
    }
   ],
   "source": [
    "#Imputing\n",
    "complete_data = pd.DataFrame(KNN(k = 3).complete(complete_data), columns = complete_data.columns)"
   ]
  },
  {
   "cell_type": "code",
   "execution_count": 15,
   "metadata": {},
   "outputs": [
    {
     "data": {
      "text/plain": [
       "state                            0\n",
       "account length                   0\n",
       "area code                        0\n",
       "phone number                     0\n",
       "international plan               0\n",
       "voice mail plan                  0\n",
       "number vmail messages            0\n",
       "total day minutes                0\n",
       "total day calls                  0\n",
       "total day charge                 0\n",
       "total eve minutes                0\n",
       "total eve calls                  0\n",
       "total eve charge                 0\n",
       "total night minutes              0\n",
       "total night calls                0\n",
       "total night charge               0\n",
       "total intl minutes               0\n",
       "total intl calls                 0\n",
       "total intl charge                0\n",
       "number customer service calls    0\n",
       "Churn                            0\n",
       "dtype: int64"
      ]
     },
     "execution_count": 15,
     "metadata": {},
     "output_type": "execute_result"
    }
   ],
   "source": [
    "#Confirming that there ar no NAs left in the data set\n",
    "complete_data.isnull().sum()"
   ]
  },
  {
   "cell_type": "markdown",
   "metadata": {},
   "source": [
    "# Feature Engineering"
   ]
  },
  {
   "cell_type": "code",
   "execution_count": 16,
   "metadata": {
    "collapsed": true
   },
   "outputs": [],
   "source": [
    "#Total Minutes\n",
    "complete_data['total_minutes'] = complete_data['total day minutes'] + complete_data['total eve minutes'] + complete_data['total night minutes'] + complete_data['total intl minutes']\n",
    "complete_data['total_calls'] = complete_data['total day calls'] + complete_data['total eve calls'] + complete_data['total night calls'] + complete_data['total intl calls']\n",
    "complete_data['total_charge'] = complete_data['total day charge'] + complete_data['total eve charge'] + complete_data['total night charge'] + complete_data['total intl charge']\n",
    "complete_data['total_avgmins/call'] = complete_data['total_minutes']/ complete_data['total_charge']"
   ]
  },
  {
   "cell_type": "code",
   "execution_count": 17,
   "metadata": {
    "collapsed": true
   },
   "outputs": [],
   "source": [
    "complete_data['total_minutes'] = np.round(complete_data['total_minutes'] )\n",
    "complete_data['total_charge'] = np.round(complete_data['total_charge'])"
   ]
  },
  {
   "cell_type": "code",
   "execution_count": 18,
   "metadata": {
    "collapsed": true
   },
   "outputs": [],
   "source": [
    "#Categorizing the customers based on the minutes, calls and charge\n",
    "complete_data['minutes_category'] = np.where((complete_data['total_minutes'] > 200) & (complete_data['total_minutes'] <=400), 'Low', np.where((complete_data['total_minutes'] > 400) & (complete_data['total_minutes'] <=600) ,'Average',\n",
    "    np.where((complete_data['total_minutes'] > 600) & (complete_data['total_minutes'] <=800), 'High', 'VHigh')))\n",
    "\n",
    "complete_data['calls_category'] = np.where((complete_data['total_calls'] > 150) & (complete_data['total_calls'] <=225), 'Low', np.where((complete_data['total_calls'] > 225) & (complete_data['total_calls'] <=300) ,'Average',\n",
    "    np.where((complete_data['total_calls'] > 300) & (complete_data['total_calls'] <=375), 'High', 'VHigh')))\n",
    "\n",
    "complete_data['charge_category'] = np.where((complete_data['total_charge'] > 20) & (complete_data['total_charge'] <=40), 'Low', np.where((complete_data['total_charge'] > 40) & (complete_data['total_charge'] <=60) ,'Average',\n",
    "    np.where((complete_data['total_charge'] > 60) & (complete_data['total_charge'] <=80), 'High', 'VHigh')))"
   ]
  },
  {
   "cell_type": "code",
   "execution_count": 19,
   "metadata": {
    "collapsed": true
   },
   "outputs": [],
   "source": [
    "lis = []\n",
    "for i in range(0, complete_data.shape[1]):\n",
    "    #print(i)\n",
    "    if(complete_data.iloc[:,i].dtypes == 'object'):\n",
    "        complete_data.iloc[:,i] = pd.Categorical(complete_data.iloc[:,i])\n",
    "        complete_data.iloc[:,i] = complete_data.iloc[:,i].cat.codes \n",
    "        complete_data.iloc[:,i] = complete_data.iloc[:,i].astype('object')\n",
    "        \n",
    "        lis.append(complete_data.columns[i])"
   ]
  },
  {
   "cell_type": "code",
   "execution_count": 20,
   "metadata": {},
   "outputs": [
    {
     "data": {
      "text/plain": [
       "(   state  account length  area code  phone number  international plan  \\\n",
       " 0   16.0           128.0      415.0        2845.0                 0.0   \n",
       " 1   35.0           107.0      415.0        2301.0                 0.0   \n",
       " 2   31.0           137.0      415.0        1616.0                 0.0   \n",
       " 3   35.0            84.0      408.0        2510.0                 1.0   \n",
       " 4   36.0            75.0      415.0         155.0                 1.0   \n",
       " \n",
       "    voice mail plan  number vmail messages  total day minutes  total day calls  \\\n",
       " 0              1.0                   25.0              265.1            110.0   \n",
       " 1              1.0                   26.0              161.6            123.0   \n",
       " 2              0.0                    0.0              243.4            114.0   \n",
       " 3              0.0                    0.0              299.4             71.0   \n",
       " 4              0.0                    0.0              166.7            113.0   \n",
       " \n",
       "    total day charge       ...         total intl charge  \\\n",
       " 0             45.07       ...                      2.70   \n",
       " 1             27.47       ...                      3.70   \n",
       " 2             41.38       ...                      3.29   \n",
       " 3             50.90       ...                      1.78   \n",
       " 4             28.34       ...                      2.73   \n",
       " \n",
       "    number customer service calls  Churn  total_minutes  total_calls  \\\n",
       " 0                            1.0    0.0          717.0        303.0   \n",
       " 1                            1.0    0.0          625.0        332.0   \n",
       " 2                            0.0    0.0          539.0        333.0   \n",
       " 3                            2.0    0.0          630.0        255.0   \n",
       " 4                            3.0    0.0          512.0        359.0   \n",
       " \n",
       "    total_charge  total_avgmins/call  minutes_category  calls_category  \\\n",
       " 0          76.0            9.491795                 1               1   \n",
       " 1          59.0           10.553680                 1               1   \n",
       " 2          62.0            8.659496                 0               1   \n",
       " 3          72.0            8.707457                 1               0   \n",
       " 4          52.0            9.829142                 0               1   \n",
       " \n",
       "    charge_category  \n",
       " 0                1  \n",
       " 1                0  \n",
       " 2                1  \n",
       " 3                1  \n",
       " 4                0  \n",
       " \n",
       " [5 rows x 28 columns], state                            float64\n",
       " account length                   float64\n",
       " area code                        float64\n",
       " phone number                     float64\n",
       " international plan               float64\n",
       " voice mail plan                  float64\n",
       " number vmail messages            float64\n",
       " total day minutes                float64\n",
       " total day calls                  float64\n",
       " total day charge                 float64\n",
       " total eve minutes                float64\n",
       " total eve calls                  float64\n",
       " total eve charge                 float64\n",
       " total night minutes              float64\n",
       " total night calls                float64\n",
       " total night charge               float64\n",
       " total intl minutes               float64\n",
       " total intl calls                 float64\n",
       " total intl charge                float64\n",
       " number customer service calls    float64\n",
       " Churn                            float64\n",
       " total_minutes                    float64\n",
       " total_calls                      float64\n",
       " total_charge                     float64\n",
       " total_avgmins/call               float64\n",
       " minutes_category                  object\n",
       " calls_category                    object\n",
       " charge_category                   object\n",
       " dtype: object)"
      ]
     },
     "execution_count": 20,
     "metadata": {},
     "output_type": "execute_result"
    }
   ],
   "source": [
    "complete_data.head() , complete_data.dtypes"
   ]
  },
  {
   "cell_type": "markdown",
   "metadata": {},
   "source": [
    "# Variable Importance"
   ]
  },
  {
   "cell_type": "code",
   "execution_count": 21,
   "metadata": {},
   "outputs": [],
   "source": [
    "factor_var = [\"state\", \"area code\", \"international plan\", \"voice mail plan\", \"number customer service calls\",\n",
    "             'minutes_category', 'calls_category', 'charge_category']\n",
    "for i in factor_var:\n",
    "    complete_data.loc[:,i] = complete_data.loc[:,i].astype('object')"
   ]
  },
  {
   "cell_type": "code",
   "execution_count": 22,
   "metadata": {},
   "outputs": [
    {
     "name": "stdout",
     "output_type": "stream",
     "text": [
      "state\n",
      "7.85083622437e-05\n",
      "area code\n",
      "0.754658138533\n",
      "international plan\n",
      "1.9443947475e-74\n",
      "voice mail plan\n",
      "7.16450178099e-15\n",
      "number customer service calls\n",
      "4.18629199349e-101\n",
      "minutes_category\n",
      "1.50230699897e-24\n",
      "calls_category\n",
      "0.32758856218\n",
      "charge_category\n",
      "6.15314663405e-64\n"
     ]
    }
   ],
   "source": [
    "#loop for chi square values\n",
    "for i in factor_var:\n",
    "    print(i)\n",
    "    chi2, p, dof, ex = chi2_contingency(pd.crosstab(complete_data['Churn'], complete_data[i]))\n",
    "    print(p)"
   ]
  },
  {
   "cell_type": "code",
   "execution_count": 23,
   "metadata": {},
   "outputs": [
    {
     "data": {
      "image/png": "[encoded data removed]",
      "text/plain": [
       "<matplotlib.figure.Figure at 0x17fd50aaef0>"
      ]
     },
     "metadata": {},
     "output_type": "display_data"
    }
   ],
   "source": [
    "#Feature Selection\n",
    "\n",
    "#Finding the correlation between continuous variable\n",
    "\n",
    "#Finding the correlation between the variables\n",
    "churn_corr = complete_data.iloc[:,2:-1]\n",
    "\n",
    "#Setting the plot height and width\n",
    "f, ax = plt.subplots(figsize=(18, 15))\n",
    "\n",
    "#Generating correlation matrix\n",
    "corr = churn_corr.corr()\n",
    "\n",
    "#Ploting using seaborn library\n",
    "#annot shows the correlation number inside each block\n",
    "correlation_plot = sns.heatmap(corr, xticklabels = corr.columns.values, yticklabels = corr.columns.values, annot = True)\n",
    "plt.show()\n",
    "plt.savefig(\"correlation_plot.png\")"
   ]
  },
  {
   "cell_type": "code",
   "execution_count": 24,
   "metadata": {},
   "outputs": [],
   "source": [
    "for i in factor_var:\n",
    "    complete_data.loc[:,i] = complete_data.loc[:,i].astype('float64')"
   ]
  },
  {
   "cell_type": "code",
   "execution_count": 25,
   "metadata": {
    "collapsed": true
   },
   "outputs": [],
   "source": [
    "#Deleting all the correlated variables from the data set\n",
    "corr_variables = ['area code', 'calls_category', 'total day minutes', 'total eve minutes',\n",
    "                                                  'total night minutes', 'total intl minutes', 'total_minutes', 'total day calls', 'total eve calls',\n",
    "                                                  'total night calls', 'total intl calls', 'total day charge', 'total eve charge',\n",
    "                                                  'total night charge', 'total intl charge', 'total_avgmins/call']\n",
    "complete_data = complete_data.drop(corr_variables, axis= 1)"
   ]
  },
  {
   "cell_type": "code",
   "execution_count": 26,
   "metadata": {},
   "outputs": [
    {
     "data": {
      "text/html": [
       "<div>\n",
       "<style>\n",
       "    .dataframe thead tr:only-child th {\n",
       "        text-align: right;\n",
       "    }\n",
       "\n",
       "    .dataframe thead th {\n",
       "        text-align: left;\n",
       "    }\n",
       "\n",
       "    .dataframe tbody tr th {\n",
       "        vertical-align: top;\n",
       "    }\n",
       "</style>\n",
       "<table border=\"1\" class=\"dataframe\">\n",
       "  <thead>\n",
       "    <tr style=\"text-align: right;\">\n",
       "      <th></th>\n",
       "      <th>state</th>\n",
       "      <th>account length</th>\n",
       "      <th>phone number</th>\n",
       "      <th>international plan</th>\n",
       "      <th>voice mail plan</th>\n",
       "      <th>number vmail messages</th>\n",
       "      <th>number customer service calls</th>\n",
       "      <th>Churn</th>\n",
       "      <th>total_calls</th>\n",
       "      <th>total_charge</th>\n",
       "      <th>minutes_category</th>\n",
       "      <th>charge_category</th>\n",
       "    </tr>\n",
       "  </thead>\n",
       "  <tbody>\n",
       "    <tr>\n",
       "      <th>0</th>\n",
       "      <td>16.0</td>\n",
       "      <td>128.0</td>\n",
       "      <td>2845.0</td>\n",
       "      <td>0.0</td>\n",
       "      <td>1.0</td>\n",
       "      <td>25.0</td>\n",
       "      <td>1.0</td>\n",
       "      <td>0.0</td>\n",
       "      <td>303.0</td>\n",
       "      <td>76.0</td>\n",
       "      <td>1.0</td>\n",
       "      <td>1.0</td>\n",
       "    </tr>\n",
       "    <tr>\n",
       "      <th>1</th>\n",
       "      <td>35.0</td>\n",
       "      <td>107.0</td>\n",
       "      <td>2301.0</td>\n",
       "      <td>0.0</td>\n",
       "      <td>1.0</td>\n",
       "      <td>26.0</td>\n",
       "      <td>1.0</td>\n",
       "      <td>0.0</td>\n",
       "      <td>332.0</td>\n",
       "      <td>59.0</td>\n",
       "      <td>1.0</td>\n",
       "      <td>0.0</td>\n",
       "    </tr>\n",
       "    <tr>\n",
       "      <th>2</th>\n",
       "      <td>31.0</td>\n",
       "      <td>137.0</td>\n",
       "      <td>1616.0</td>\n",
       "      <td>0.0</td>\n",
       "      <td>0.0</td>\n",
       "      <td>0.0</td>\n",
       "      <td>0.0</td>\n",
       "      <td>0.0</td>\n",
       "      <td>333.0</td>\n",
       "      <td>62.0</td>\n",
       "      <td>0.0</td>\n",
       "      <td>1.0</td>\n",
       "    </tr>\n",
       "    <tr>\n",
       "      <th>3</th>\n",
       "      <td>35.0</td>\n",
       "      <td>84.0</td>\n",
       "      <td>2510.0</td>\n",
       "      <td>1.0</td>\n",
       "      <td>0.0</td>\n",
       "      <td>0.0</td>\n",
       "      <td>2.0</td>\n",
       "      <td>0.0</td>\n",
       "      <td>255.0</td>\n",
       "      <td>72.0</td>\n",
       "      <td>1.0</td>\n",
       "      <td>1.0</td>\n",
       "    </tr>\n",
       "    <tr>\n",
       "      <th>4</th>\n",
       "      <td>36.0</td>\n",
       "      <td>75.0</td>\n",
       "      <td>155.0</td>\n",
       "      <td>1.0</td>\n",
       "      <td>0.0</td>\n",
       "      <td>0.0</td>\n",
       "      <td>3.0</td>\n",
       "      <td>0.0</td>\n",
       "      <td>359.0</td>\n",
       "      <td>52.0</td>\n",
       "      <td>0.0</td>\n",
       "      <td>0.0</td>\n",
       "    </tr>\n",
       "  </tbody>\n",
       "</table>\n",
       "</div>"
      ],
      "text/plain": [
       "   state  account length  phone number  international plan  voice mail plan  \\\n",
       "0   16.0           128.0        2845.0                 0.0              1.0   \n",
       "1   35.0           107.0        2301.0                 0.0              1.0   \n",
       "2   31.0           137.0        1616.0                 0.0              0.0   \n",
       "3   35.0            84.0        2510.0                 1.0              0.0   \n",
       "4   36.0            75.0         155.0                 1.0              0.0   \n",
       "\n",
       "   number vmail messages  number customer service calls  Churn  total_calls  \\\n",
       "0                   25.0                            1.0    0.0        303.0   \n",
       "1                   26.0                            1.0    0.0        332.0   \n",
       "2                    0.0                            0.0    0.0        333.0   \n",
       "3                    0.0                            2.0    0.0        255.0   \n",
       "4                    0.0                            3.0    0.0        359.0   \n",
       "\n",
       "   total_charge  minutes_category  charge_category  \n",
       "0          76.0               1.0              1.0  \n",
       "1          59.0               1.0              0.0  \n",
       "2          62.0               0.0              1.0  \n",
       "3          72.0               1.0              1.0  \n",
       "4          52.0               0.0              0.0  "
      ]
     },
     "execution_count": 26,
     "metadata": {},
     "output_type": "execute_result"
    }
   ],
   "source": [
    "complete_data.head()"
   ]
  },
  {
   "cell_type": "code",
   "execution_count": 27,
   "metadata": {
    "collapsed": true
   },
   "outputs": [],
   "source": [
    "#Keeping the churn variable at last after feature engineering variables\n",
    "cols = complete_data.columns.tolist()\n",
    "complete_data = complete_data[['state',\n",
    " 'account length',\n",
    " 'phone number',\n",
    " 'international plan',\n",
    " 'voice mail plan',\n",
    " 'number vmail messages',\n",
    " 'number customer service calls',\n",
    " 'total_calls',\n",
    " 'total_charge',\n",
    " 'minutes_category',\n",
    " 'charge_category',\n",
    " 'Churn']]"
   ]
  },
  {
   "cell_type": "markdown",
   "metadata": {},
   "source": [
    "# Feature Scaling - Standardization"
   ]
  },
  {
   "cell_type": "code",
   "execution_count": 28,
   "metadata": {
    "collapsed": true
   },
   "outputs": [],
   "source": [
    "fs_var = [\"account length\", \"number vmail messages\", \"total_calls\", \"total_charge\"]"
   ]
  },
  {
   "cell_type": "code",
   "execution_count": 29,
   "metadata": {},
   "outputs": [
    {
     "data": {
      "text/plain": [
       "<matplotlib.figure.Figure at 0x17fd51b81d0>"
      ]
     },
     "metadata": {},
     "output_type": "display_data"
    },
    {
     "data": {
      "image/png": "[encoded data removed]",
      "text/plain": [
       "<matplotlib.figure.Figure at 0x17fd5008320>"
      ]
     },
     "metadata": {},
     "output_type": "display_data"
    },
    {
     "data": {
      "image/png": "[encoded data removed]",
      "text/plain": [
       "<matplotlib.figure.Figure at 0x17fd743a710>"
      ]
     },
     "metadata": {},
     "output_type": "display_data"
    },
    {
     "data": {
      "image/png": "[encoded data removed]",
      "text/plain": [
       "<matplotlib.figure.Figure at 0x17fd745c588>"
      ]
     },
     "metadata": {},
     "output_type": "display_data"
    },
    {
     "data": {
      "image/png": "[encoded data removed]",
      "text/plain": [
       "<matplotlib.figure.Figure at 0x17fd73c1c18>"
      ]
     },
     "metadata": {},
     "output_type": "display_data"
    }
   ],
   "source": [
    "#Normality check\n",
    "for i in fs_var:\n",
    "    plt.figure()\n",
    "    plt.clf()\n",
    "    plt.hist(complete_data[i], bins = 'auto')\n",
    "    plt.title(i)\n",
    "    plt.savefig(i)\n",
    "    plt.show()"
   ]
  },
  {
   "cell_type": "code",
   "execution_count": 30,
   "metadata": {},
   "outputs": [
    {
     "name": "stdout",
     "output_type": "stream",
     "text": [
      "account length\n",
      "number vmail messages\n",
      "total_calls\n",
      "total_charge\n"
     ]
    }
   ],
   "source": [
    "#Applying standarization as few variables are normalized\n",
    "for i in fs_var:\n",
    "    print(i)\n",
    "    complete_data[i] = (complete_data[i] - complete_data[i].mean())/complete_data[i].std()"
   ]
  },
  {
   "cell_type": "code",
   "execution_count": 31,
   "metadata": {},
   "outputs": [
    {
     "data": {
      "text/html": [
       "<div>\n",
       "<style>\n",
       "    .dataframe thead tr:only-child th {\n",
       "        text-align: right;\n",
       "    }\n",
       "\n",
       "    .dataframe thead th {\n",
       "        text-align: left;\n",
       "    }\n",
       "\n",
       "    .dataframe tbody tr th {\n",
       "        vertical-align: top;\n",
       "    }\n",
       "</style>\n",
       "<table border=\"1\" class=\"dataframe\">\n",
       "  <thead>\n",
       "    <tr style=\"text-align: right;\">\n",
       "      <th></th>\n",
       "      <th>state</th>\n",
       "      <th>account length</th>\n",
       "      <th>phone number</th>\n",
       "      <th>international plan</th>\n",
       "      <th>voice mail plan</th>\n",
       "      <th>number vmail messages</th>\n",
       "      <th>number customer service calls</th>\n",
       "      <th>total_calls</th>\n",
       "      <th>total_charge</th>\n",
       "      <th>minutes_category</th>\n",
       "      <th>charge_category</th>\n",
       "      <th>Churn</th>\n",
       "    </tr>\n",
       "  </thead>\n",
       "  <tbody>\n",
       "    <tr>\n",
       "      <th>0</th>\n",
       "      <td>16.0</td>\n",
       "      <td>0.728582</td>\n",
       "      <td>2845.0</td>\n",
       "      <td>0.0</td>\n",
       "      <td>1.0</td>\n",
       "      <td>1.368773</td>\n",
       "      <td>1.0</td>\n",
       "      <td>-0.044916</td>\n",
       "      <td>1.643973</td>\n",
       "      <td>1.0</td>\n",
       "      <td>1.0</td>\n",
       "      <td>0.0</td>\n",
       "    </tr>\n",
       "    <tr>\n",
       "      <th>1</th>\n",
       "      <td>35.0</td>\n",
       "      <td>0.187611</td>\n",
       "      <td>2301.0</td>\n",
       "      <td>0.0</td>\n",
       "      <td>1.0</td>\n",
       "      <td>1.446138</td>\n",
       "      <td>1.0</td>\n",
       "      <td>0.822736</td>\n",
       "      <td>-0.050639</td>\n",
       "      <td>1.0</td>\n",
       "      <td>0.0</td>\n",
       "      <td>0.0</td>\n",
       "    </tr>\n",
       "    <tr>\n",
       "      <th>2</th>\n",
       "      <td>31.0</td>\n",
       "      <td>0.960427</td>\n",
       "      <td>1616.0</td>\n",
       "      <td>0.0</td>\n",
       "      <td>0.0</td>\n",
       "      <td>-0.565369</td>\n",
       "      <td>0.0</td>\n",
       "      <td>0.852655</td>\n",
       "      <td>0.248410</td>\n",
       "      <td>0.0</td>\n",
       "      <td>1.0</td>\n",
       "      <td>0.0</td>\n",
       "    </tr>\n",
       "    <tr>\n",
       "      <th>3</th>\n",
       "      <td>35.0</td>\n",
       "      <td>-0.404881</td>\n",
       "      <td>2510.0</td>\n",
       "      <td>1.0</td>\n",
       "      <td>0.0</td>\n",
       "      <td>-0.565369</td>\n",
       "      <td>2.0</td>\n",
       "      <td>-1.481031</td>\n",
       "      <td>1.245241</td>\n",
       "      <td>1.0</td>\n",
       "      <td>1.0</td>\n",
       "      <td>0.0</td>\n",
       "    </tr>\n",
       "    <tr>\n",
       "      <th>4</th>\n",
       "      <td>36.0</td>\n",
       "      <td>-0.636726</td>\n",
       "      <td>155.0</td>\n",
       "      <td>1.0</td>\n",
       "      <td>0.0</td>\n",
       "      <td>-0.565369</td>\n",
       "      <td>3.0</td>\n",
       "      <td>1.630550</td>\n",
       "      <td>-0.748421</td>\n",
       "      <td>0.0</td>\n",
       "      <td>0.0</td>\n",
       "      <td>0.0</td>\n",
       "    </tr>\n",
       "  </tbody>\n",
       "</table>\n",
       "</div>"
      ],
      "text/plain": [
       "   state  account length  phone number  international plan  voice mail plan  \\\n",
       "0   16.0        0.728582        2845.0                 0.0              1.0   \n",
       "1   35.0        0.187611        2301.0                 0.0              1.0   \n",
       "2   31.0        0.960427        1616.0                 0.0              0.0   \n",
       "3   35.0       -0.404881        2510.0                 1.0              0.0   \n",
       "4   36.0       -0.636726         155.0                 1.0              0.0   \n",
       "\n",
       "   number vmail messages  number customer service calls  total_calls  \\\n",
       "0               1.368773                            1.0    -0.044916   \n",
       "1               1.446138                            1.0     0.822736   \n",
       "2              -0.565369                            0.0     0.852655   \n",
       "3              -0.565369                            2.0    -1.481031   \n",
       "4              -0.565369                            3.0     1.630550   \n",
       "\n",
       "   total_charge  minutes_category  charge_category  Churn  \n",
       "0      1.643973               1.0              1.0    0.0  \n",
       "1     -0.050639               1.0              0.0    0.0  \n",
       "2      0.248410               0.0              1.0    0.0  \n",
       "3      1.245241               1.0              1.0    0.0  \n",
       "4     -0.748421               0.0              0.0    0.0  "
      ]
     },
     "execution_count": 31,
     "metadata": {},
     "output_type": "execute_result"
    }
   ],
   "source": [
    "complete_data.head()"
   ]
  },
  {
   "cell_type": "markdown",
   "metadata": {},
   "source": [
    "Segregating Train and Test Data"
   ]
  },
  {
   "cell_type": "code",
   "execution_count": 32,
   "metadata": {
    "collapsed": true
   },
   "outputs": [],
   "source": [
    "train_new = complete_data.iloc[0:len(train_data),]\n",
    "test_new = complete_data.iloc[len(train_data):,]"
   ]
  },
  {
   "cell_type": "markdown",
   "metadata": {},
   "source": [
    "# Class Imbalance: SMOTE\n",
    "\n",
    "# Synthetic Minority Oversampling technique"
   ]
  },
  {
   "cell_type": "code",
   "execution_count": 33,
   "metadata": {
    "collapsed": true
   },
   "outputs": [],
   "source": [
    "X = train_new.drop(\"Churn\", 1)"
   ]
  },
  {
   "cell_type": "code",
   "execution_count": 34,
   "metadata": {
    "collapsed": true
   },
   "outputs": [],
   "source": [
    "Y = train_new[\"Churn\"]"
   ]
  },
  {
   "cell_type": "code",
   "execution_count": 35,
   "metadata": {},
   "outputs": [
    {
     "data": {
      "text/plain": [
       "((3333, 11), (3333,))"
      ]
     },
     "execution_count": 35,
     "metadata": {},
     "output_type": "execute_result"
    }
   ],
   "source": [
    "X.shape, Y.shape"
   ]
  },
  {
   "cell_type": "code",
   "execution_count": 36,
   "metadata": {
    "collapsed": true
   },
   "outputs": [],
   "source": [
    "X_train, X_test, y_train, y_test = train_test_split(X, Y, test_size=0.2, random_state=1)"
   ]
  },
  {
   "cell_type": "code",
   "execution_count": 37,
   "metadata": {},
   "outputs": [
    {
     "data": {
      "text/plain": [
       "((2666, 11), (2666,))"
      ]
     },
     "execution_count": 37,
     "metadata": {},
     "output_type": "execute_result"
    }
   ],
   "source": [
    "X_train.shape, y_train.shape"
   ]
  },
  {
   "cell_type": "code",
   "execution_count": 38,
   "metadata": {
    "collapsed": true
   },
   "outputs": [],
   "source": [
    "oversampler = SMOTE(random_state=0)"
   ]
  },
  {
   "cell_type": "code",
   "execution_count": 39,
   "metadata": {
    "collapsed": true
   },
   "outputs": [],
   "source": [
    "X_train ,y_train = oversampler.fit_sample(X_train, y_train)"
   ]
  },
  {
   "cell_type": "code",
   "execution_count": 40,
   "metadata": {},
   "outputs": [
    {
     "data": {
      "text/plain": [
       "((4562, 11), (4562,))"
      ]
     },
     "execution_count": 40,
     "metadata": {},
     "output_type": "execute_result"
    }
   ],
   "source": [
    "X_train.shape, y_train.shape"
   ]
  },
  {
   "cell_type": "code",
   "execution_count": 41,
   "metadata": {
    "collapsed": true
   },
   "outputs": [],
   "source": [
    "X_train = pd.DataFrame(X_train, columns = ['state', 'account length', 'phone number', 'international plan',\n",
    "       'voice mail plan', 'number vmail messages',\n",
    "       'number customer service calls', 'total_calls', 'total_charge',\n",
    "       'minutes_category', 'charge_category'] )"
   ]
  },
  {
   "cell_type": "code",
   "execution_count": 42,
   "metadata": {},
   "outputs": [
    {
     "data": {
      "text/html": [
       "<div>\n",
       "<style>\n",
       "    .dataframe thead tr:only-child th {\n",
       "        text-align: right;\n",
       "    }\n",
       "\n",
       "    .dataframe thead th {\n",
       "        text-align: left;\n",
       "    }\n",
       "\n",
       "    .dataframe tbody tr th {\n",
       "        vertical-align: top;\n",
       "    }\n",
       "</style>\n",
       "<table border=\"1\" class=\"dataframe\">\n",
       "  <thead>\n",
       "    <tr style=\"text-align: right;\">\n",
       "      <th></th>\n",
       "      <th>state</th>\n",
       "      <th>account length</th>\n",
       "      <th>phone number</th>\n",
       "      <th>international plan</th>\n",
       "      <th>voice mail plan</th>\n",
       "      <th>number vmail messages</th>\n",
       "      <th>number customer service calls</th>\n",
       "      <th>total_calls</th>\n",
       "      <th>total_charge</th>\n",
       "      <th>minutes_category</th>\n",
       "      <th>charge_category</th>\n",
       "    </tr>\n",
       "  </thead>\n",
       "  <tbody>\n",
       "    <tr>\n",
       "      <th>0</th>\n",
       "      <td>10.0</td>\n",
       "      <td>0.187611</td>\n",
       "      <td>2997.0</td>\n",
       "      <td>0.0</td>\n",
       "      <td>0.0</td>\n",
       "      <td>-0.565369</td>\n",
       "      <td>2.0</td>\n",
       "      <td>0.912493</td>\n",
       "      <td>0.049044</td>\n",
       "      <td>0.0</td>\n",
       "      <td>0.0</td>\n",
       "    </tr>\n",
       "    <tr>\n",
       "      <th>1</th>\n",
       "      <td>37.0</td>\n",
       "      <td>0.419456</td>\n",
       "      <td>204.0</td>\n",
       "      <td>1.0</td>\n",
       "      <td>0.0</td>\n",
       "      <td>-0.565369</td>\n",
       "      <td>3.0</td>\n",
       "      <td>-0.224431</td>\n",
       "      <td>1.045875</td>\n",
       "      <td>1.0</td>\n",
       "      <td>1.0</td>\n",
       "    </tr>\n",
       "    <tr>\n",
       "      <th>2</th>\n",
       "      <td>29.0</td>\n",
       "      <td>0.445216</td>\n",
       "      <td>1411.0</td>\n",
       "      <td>0.0</td>\n",
       "      <td>0.0</td>\n",
       "      <td>-0.565369</td>\n",
       "      <td>1.0</td>\n",
       "      <td>0.523545</td>\n",
       "      <td>-0.848104</td>\n",
       "      <td>1.0</td>\n",
       "      <td>0.0</td>\n",
       "    </tr>\n",
       "    <tr>\n",
       "      <th>3</th>\n",
       "      <td>37.0</td>\n",
       "      <td>-0.507923</td>\n",
       "      <td>3356.0</td>\n",
       "      <td>0.0</td>\n",
       "      <td>0.0</td>\n",
       "      <td>-0.565369</td>\n",
       "      <td>1.0</td>\n",
       "      <td>-0.134674</td>\n",
       "      <td>-0.250005</td>\n",
       "      <td>0.0</td>\n",
       "      <td>0.0</td>\n",
       "    </tr>\n",
       "    <tr>\n",
       "      <th>4</th>\n",
       "      <td>3.0</td>\n",
       "      <td>-0.198797</td>\n",
       "      <td>4716.0</td>\n",
       "      <td>1.0</td>\n",
       "      <td>1.0</td>\n",
       "      <td>-0.565369</td>\n",
       "      <td>0.0</td>\n",
       "      <td>-1.032245</td>\n",
       "      <td>1.145558</td>\n",
       "      <td>0.0</td>\n",
       "      <td>1.0</td>\n",
       "    </tr>\n",
       "  </tbody>\n",
       "</table>\n",
       "</div>"
      ],
      "text/plain": [
       "   state  account length  phone number  international plan  voice mail plan  \\\n",
       "0   10.0        0.187611        2997.0                 0.0              0.0   \n",
       "1   37.0        0.419456         204.0                 1.0              0.0   \n",
       "2   29.0        0.445216        1411.0                 0.0              0.0   \n",
       "3   37.0       -0.507923        3356.0                 0.0              0.0   \n",
       "4    3.0       -0.198797        4716.0                 1.0              1.0   \n",
       "\n",
       "   number vmail messages  number customer service calls  total_calls  \\\n",
       "0              -0.565369                            2.0     0.912493   \n",
       "1              -0.565369                            3.0    -0.224431   \n",
       "2              -0.565369                            1.0     0.523545   \n",
       "3              -0.565369                            1.0    -0.134674   \n",
       "4              -0.565369                            0.0    -1.032245   \n",
       "\n",
       "   total_charge  minutes_category  charge_category  \n",
       "0      0.049044               0.0              0.0  \n",
       "1      1.045875               1.0              1.0  \n",
       "2     -0.848104               1.0              0.0  \n",
       "3     -0.250005               0.0              0.0  \n",
       "4      1.145558               0.0              1.0  "
      ]
     },
     "execution_count": 42,
     "metadata": {},
     "output_type": "execute_result"
    }
   ],
   "source": [
    "X_train.head()"
   ]
  },
  {
   "cell_type": "code",
   "execution_count": 43,
   "metadata": {
    "collapsed": true
   },
   "outputs": [],
   "source": [
    "y_train = pd.DataFrame(y_train, columns = [\"Churn\"])"
   ]
  },
  {
   "cell_type": "code",
   "execution_count": 44,
   "metadata": {},
   "outputs": [
    {
     "data": {
      "text/html": [
       "<div>\n",
       "<style>\n",
       "    .dataframe thead tr:only-child th {\n",
       "        text-align: right;\n",
       "    }\n",
       "\n",
       "    .dataframe thead th {\n",
       "        text-align: left;\n",
       "    }\n",
       "\n",
       "    .dataframe tbody tr th {\n",
       "        vertical-align: top;\n",
       "    }\n",
       "</style>\n",
       "<table border=\"1\" class=\"dataframe\">\n",
       "  <thead>\n",
       "    <tr style=\"text-align: right;\">\n",
       "      <th></th>\n",
       "      <th>Churn</th>\n",
       "    </tr>\n",
       "  </thead>\n",
       "  <tbody>\n",
       "    <tr>\n",
       "      <th>0</th>\n",
       "      <td>0.0</td>\n",
       "    </tr>\n",
       "    <tr>\n",
       "      <th>1</th>\n",
       "      <td>0.0</td>\n",
       "    </tr>\n",
       "    <tr>\n",
       "      <th>2</th>\n",
       "      <td>0.0</td>\n",
       "    </tr>\n",
       "    <tr>\n",
       "      <th>3</th>\n",
       "      <td>0.0</td>\n",
       "    </tr>\n",
       "    <tr>\n",
       "      <th>4</th>\n",
       "      <td>0.0</td>\n",
       "    </tr>\n",
       "  </tbody>\n",
       "</table>\n",
       "</div>"
      ],
      "text/plain": [
       "   Churn\n",
       "0    0.0\n",
       "1    0.0\n",
       "2    0.0\n",
       "3    0.0\n",
       "4    0.0"
      ]
     },
     "execution_count": 44,
     "metadata": {},
     "output_type": "execute_result"
    }
   ],
   "source": [
    "y_train.head()"
   ]
  },
  {
   "cell_type": "code",
   "execution_count": 45,
   "metadata": {
    "collapsed": true
   },
   "outputs": [],
   "source": [
    "oversampled_train = pd.concat([X_train, y_train], axis = 1)"
   ]
  },
  {
   "cell_type": "code",
   "execution_count": 46,
   "metadata": {},
   "outputs": [
    {
     "data": {
      "text/plain": [
       "(4562, 12)"
      ]
     },
     "execution_count": 46,
     "metadata": {},
     "output_type": "execute_result"
    }
   ],
   "source": [
    "oversampled_train.shape"
   ]
  },
  {
   "cell_type": "code",
   "execution_count": 47,
   "metadata": {},
   "outputs": [
    {
     "name": "stdout",
     "output_type": "stream",
     "text": [
      "             :Churned         :Not Churned\n",
      "Total:        2281 :            2281\n",
      "Percentage:   45.62 :          45.62\n"
     ]
    }
   ],
   "source": [
    "no_positive_cases = oversampled_train.loc[oversampled_train.Churn == 1].shape[0]\n",
    "no_negative_cases = oversampled_train.loc[oversampled_train.Churn == 0].shape[0]\n",
    "print(\"             :Churned         :Not Churned\")\n",
    "print(\"Total:       \", no_positive_cases,\":           \",no_negative_cases)\n",
    "print(\"Percentage:  \", no_positive_cases*100/sum, \":         \", no_negative_cases*100/sum)\n"
   ]
  },
  {
   "cell_type": "markdown",
   "metadata": {},
   "source": [
    "## MODEL GENERATION\n",
    "# Logistic Classifier"
   ]
  },
  {
   "cell_type": "code",
   "execution_count": 48,
   "metadata": {
    "collapsed": true
   },
   "outputs": [],
   "source": [
    "#select column indexes for independent variables\n",
    "train_cols = oversampled_train.columns[0:11]"
   ]
  },
  {
   "cell_type": "code",
   "execution_count": 49,
   "metadata": {},
   "outputs": [
    {
     "name": "stdout",
     "output_type": "stream",
     "text": [
      "Optimization terminated successfully.\n",
      "         Current function value: 0.515533\n",
      "         Iterations 6\n"
     ]
    },
    {
     "data": {
      "text/html": [
       "<table class=\"simpletable\">\n",
       "<caption>Logit Regression Results</caption>\n",
       "<tr>\n",
       "  <th>Dep. Variable:</th>       <td>Churn</td>      <th>  No. Observations:  </th>  <td>  4562</td> \n",
       "</tr>\n",
       "<tr>\n",
       "  <th>Model:</th>               <td>Logit</td>      <th>  Df Residuals:      </th>  <td>  4551</td> \n",
       "</tr>\n",
       "<tr>\n",
       "  <th>Method:</th>               <td>MLE</td>       <th>  Df Model:          </th>  <td>    10</td> \n",
       "</tr>\n",
       "<tr>\n",
       "  <th>Date:</th>          <td>Tue, 29 May 2018</td> <th>  Pseudo R-squ.:     </th>  <td>0.2562</td> \n",
       "</tr>\n",
       "<tr>\n",
       "  <th>Time:</th>              <td>23:24:59</td>     <th>  Log-Likelihood:    </th> <td> -2351.9</td>\n",
       "</tr>\n",
       "<tr>\n",
       "  <th>converged:</th>           <td>True</td>       <th>  LL-Null:           </th> <td> -3162.1</td>\n",
       "</tr>\n",
       "<tr>\n",
       "  <th> </th>                      <td> </td>        <th>  LLR p-value:       </th>  <td> 0.000</td> \n",
       "</tr>\n",
       "</table>\n",
       "<table class=\"simpletable\">\n",
       "<tr>\n",
       "                <td></td>                   <th>coef</th>     <th>std err</th>      <th>z</th>      <th>P>|z|</th>  <th>[0.025</th>    <th>0.975]</th>  \n",
       "</tr>\n",
       "<tr>\n",
       "  <th>state</th>                         <td>   -0.0129</td> <td>    0.002</td> <td>   -5.546</td> <td> 0.000</td> <td>   -0.017</td> <td>   -0.008</td>\n",
       "</tr>\n",
       "<tr>\n",
       "  <th>account length</th>                <td>    0.0540</td> <td>    0.038</td> <td>    1.424</td> <td> 0.155</td> <td>   -0.020</td> <td>    0.128</td>\n",
       "</tr>\n",
       "<tr>\n",
       "  <th>phone number</th>                  <td>   -0.0001</td> <td> 2.35e-05</td> <td>   -5.780</td> <td> 0.000</td> <td>   -0.000</td> <td>-8.96e-05</td>\n",
       "</tr>\n",
       "<tr>\n",
       "  <th>international plan</th>            <td>    2.6963</td> <td>    0.126</td> <td>   21.466</td> <td> 0.000</td> <td>    2.450</td> <td>    2.942</td>\n",
       "</tr>\n",
       "<tr>\n",
       "  <th>voice mail plan</th>               <td>   -3.0240</td> <td>    0.291</td> <td>  -10.384</td> <td> 0.000</td> <td>   -3.595</td> <td>   -2.453</td>\n",
       "</tr>\n",
       "<tr>\n",
       "  <th>number vmail messages</th>         <td>    0.8710</td> <td>    0.124</td> <td>    6.997</td> <td> 0.000</td> <td>    0.627</td> <td>    1.115</td>\n",
       "</tr>\n",
       "<tr>\n",
       "  <th>number customer service calls</th> <td>    0.5506</td> <td>    0.026</td> <td>   20.925</td> <td> 0.000</td> <td>    0.499</td> <td>    0.602</td>\n",
       "</tr>\n",
       "<tr>\n",
       "  <th>total_calls</th>                   <td>    0.0977</td> <td>    0.038</td> <td>    2.581</td> <td> 0.010</td> <td>    0.024</td> <td>    0.172</td>\n",
       "</tr>\n",
       "<tr>\n",
       "  <th>total_charge</th>                  <td>    0.8143</td> <td>    0.052</td> <td>   15.792</td> <td> 0.000</td> <td>    0.713</td> <td>    0.915</td>\n",
       "</tr>\n",
       "<tr>\n",
       "  <th>minutes_category</th>              <td>   -0.6766</td> <td>    0.095</td> <td>   -7.095</td> <td> 0.000</td> <td>   -0.864</td> <td>   -0.490</td>\n",
       "</tr>\n",
       "<tr>\n",
       "  <th>charge_category</th>               <td>    0.3478</td> <td>    0.076</td> <td>    4.579</td> <td> 0.000</td> <td>    0.199</td> <td>    0.497</td>\n",
       "</tr>\n",
       "</table>"
      ],
      "text/plain": [
       "<class 'statsmodels.iolib.summary.Summary'>\n",
       "\"\"\"\n",
       "                           Logit Regression Results                           \n",
       "==============================================================================\n",
       "Dep. Variable:                  Churn   No. Observations:                 4562\n",
       "Model:                          Logit   Df Residuals:                     4551\n",
       "Method:                           MLE   Df Model:                           10\n",
       "Date:                Tue, 29 May 2018   Pseudo R-squ.:                  0.2562\n",
       "Time:                        23:24:59   Log-Likelihood:                -2351.9\n",
       "converged:                       True   LL-Null:                       -3162.1\n",
       "                                        LLR p-value:                     0.000\n",
       "=================================================================================================\n",
       "                                    coef    std err          z      P>|z|      [0.025      0.975]\n",
       "-------------------------------------------------------------------------------------------------\n",
       "state                            -0.0129      0.002     -5.546      0.000      -0.017      -0.008\n",
       "account length                    0.0540      0.038      1.424      0.155      -0.020       0.128\n",
       "phone number                     -0.0001   2.35e-05     -5.780      0.000      -0.000   -8.96e-05\n",
       "international plan                2.6963      0.126     21.466      0.000       2.450       2.942\n",
       "voice mail plan                  -3.0240      0.291    -10.384      0.000      -3.595      -2.453\n",
       "number vmail messages             0.8710      0.124      6.997      0.000       0.627       1.115\n",
       "number customer service calls     0.5506      0.026     20.925      0.000       0.499       0.602\n",
       "total_calls                       0.0977      0.038      2.581      0.010       0.024       0.172\n",
       "total_charge                      0.8143      0.052     15.792      0.000       0.713       0.915\n",
       "minutes_category                 -0.6766      0.095     -7.095      0.000      -0.864      -0.490\n",
       "charge_category                   0.3478      0.076      4.579      0.000       0.199       0.497\n",
       "=================================================================================================\n",
       "\"\"\""
      ]
     },
     "execution_count": 49,
     "metadata": {},
     "output_type": "execute_result"
    }
   ],
   "source": [
    "#Built Logistic Regression\n",
    "import statsmodels.api as sm\n",
    "\n",
    "logit = sm.Logit(oversampled_train['Churn'], oversampled_train[train_cols]).fit()\n",
    "\n",
    "logit.summary()"
   ]
  },
  {
   "cell_type": "code",
   "execution_count": 50,
   "metadata": {
    "collapsed": true
   },
   "outputs": [],
   "source": [
    "for i in range(0, test_new.shape[1]):\n",
    "    if(test_new.iloc[:,i].dtypes != 'float64'):\n",
    "        test_new.iloc[:,i] = test_new.iloc[:,i].astype('float32')"
   ]
  },
  {
   "cell_type": "code",
   "execution_count": 51,
   "metadata": {},
   "outputs": [
    {
     "name": "stderr",
     "output_type": "stream",
     "text": [
      "D:\\Anaconda\\lib\\site-packages\\ipykernel_launcher.py:2: SettingWithCopyWarning: \n",
      "A value is trying to be set on a copy of a slice from a DataFrame.\n",
      "Try using .loc[row_indexer,col_indexer] = value instead\n",
      "\n",
      "See the caveats in the documentation: http://pandas.pydata.org/pandas-docs/stable/indexing.html#indexing-view-versus-copy\n",
      "  \n",
      "D:\\Anaconda\\lib\\site-packages\\ipykernel_launcher.py:4: SettingWithCopyWarning: \n",
      "A value is trying to be set on a copy of a slice from a DataFrame.\n",
      "Try using .loc[row_indexer,col_indexer] = value instead\n",
      "\n",
      "See the caveats in the documentation: http://pandas.pydata.org/pandas-docs/stable/indexing.html#indexing-view-versus-copy\n",
      "  after removing the cwd from sys.path.\n",
      "D:\\Anaconda\\lib\\site-packages\\pandas\\core\\indexing.py:517: SettingWithCopyWarning: \n",
      "A value is trying to be set on a copy of a slice from a DataFrame.\n",
      "Try using .loc[row_indexer,col_indexer] = value instead\n",
      "\n",
      "See the caveats in the documentation: http://pandas.pydata.org/pandas-docs/stable/indexing.html#indexing-view-versus-copy\n",
      "  self.obj[item] = s\n"
     ]
    }
   ],
   "source": [
    "#Predict test data\n",
    "test_new['Actual_prob'] = logit.predict(test_new[train_cols])\n",
    "\n",
    "test_new['ActualVal'] = 1\n",
    "test_new.loc[test_new.Actual_prob < 0.5, 'ActualVal'] = 0"
   ]
  },
  {
   "cell_type": "code",
   "execution_count": 52,
   "metadata": {},
   "outputs": [
    {
     "data": {
      "text/plain": [
       "22.767857142857142"
      ]
     },
     "execution_count": 52,
     "metadata": {},
     "output_type": "execute_result"
    }
   ],
   "source": [
    "#Build confusion matrix\n",
    "CM = pd.crosstab(test_new['Churn'], test_new['ActualVal'])\n",
    "\n",
    "#let us save TP, TN, FP, FN\n",
    "TN = CM.iloc[0,0]\n",
    "FN = CM.iloc[1,0]\n",
    "TP = CM.iloc[1,1]\n",
    "FP = CM.iloc[0,1]\n",
    "\n",
    "#check accuracy of model\n",
    "#accuracy_score(y_test, y_pred)*100\n",
    "((TP+TN)*100)/(TP+TN+FP+FN)\n",
    "\n",
    "(FN*100)/(FN+TP)"
   ]
  },
  {
   "cell_type": "code",
   "execution_count": 53,
   "metadata": {},
   "outputs": [
    {
     "data": {
      "text/html": [
       "<div>\n",
       "<style>\n",
       "    .dataframe thead tr:only-child th {\n",
       "        text-align: right;\n",
       "    }\n",
       "\n",
       "    .dataframe thead th {\n",
       "        text-align: left;\n",
       "    }\n",
       "\n",
       "    .dataframe tbody tr th {\n",
       "        vertical-align: top;\n",
       "    }\n",
       "</style>\n",
       "<table border=\"1\" class=\"dataframe\">\n",
       "  <thead>\n",
       "    <tr style=\"text-align: right;\">\n",
       "      <th>ActualVal</th>\n",
       "      <th>0</th>\n",
       "      <th>1</th>\n",
       "    </tr>\n",
       "    <tr>\n",
       "      <th>Churn</th>\n",
       "      <th></th>\n",
       "      <th></th>\n",
       "    </tr>\n",
       "  </thead>\n",
       "  <tbody>\n",
       "    <tr>\n",
       "      <th>0.0</th>\n",
       "      <td>1056</td>\n",
       "      <td>387</td>\n",
       "    </tr>\n",
       "    <tr>\n",
       "      <th>1.0</th>\n",
       "      <td>51</td>\n",
       "      <td>173</td>\n",
       "    </tr>\n",
       "  </tbody>\n",
       "</table>\n",
       "</div>"
      ],
      "text/plain": [
       "ActualVal     0    1\n",
       "Churn               \n",
       "0.0        1056  387\n",
       "1.0          51  173"
      ]
     },
     "execution_count": 53,
     "metadata": {},
     "output_type": "execute_result"
    }
   ],
   "source": [
    "CM"
   ]
  },
  {
   "cell_type": "markdown",
   "metadata": {},
   "source": [
    "# Model Performance"
   ]
  },
  {
   "cell_type": "markdown",
   "metadata": {},
   "source": [
    "ROCR"
   ]
  },
  {
   "cell_type": "code",
   "execution_count": 54,
   "metadata": {
    "collapsed": true
   },
   "outputs": [],
   "source": [
    "fpr, tpr, _ = metrics.roc_curve(test_new.Churn, test_new['ActualVal'])"
   ]
  },
  {
   "cell_type": "code",
   "execution_count": 55,
   "metadata": {},
   "outputs": [
    {
     "data": {
      "image/png": "[encoded data removed]",
      "text/plain": [
       "<matplotlib.figure.Figure at 0x17fd7586e80>"
      ]
     },
     "metadata": {},
     "output_type": "display_data"
    },
    {
     "data": {
      "text/plain": [
       "<ggplot: (-9223371933818200551)>"
      ]
     },
     "execution_count": 55,
     "metadata": {},
     "output_type": "execute_result"
    }
   ],
   "source": [
    "df = pd.DataFrame(dict(fpr=fpr, tpr=tpr))\n",
    "ggplot(df, aes(x='fpr', y='tpr')) +\\\n",
    " geom_line() +\\\n",
    " geom_abline(linetype='dashed')"
   ]
  },
  {
   "cell_type": "code",
   "execution_count": 56,
   "metadata": {
    "collapsed": true
   },
   "outputs": [],
   "source": [
    "auc = metrics.auc(fpr,tpr)"
   ]
  },
  {
   "cell_type": "code",
   "execution_count": 57,
   "metadata": {},
   "outputs": [
    {
     "data": {
      "text/plain": [
       "0.75206508019008034"
      ]
     },
     "execution_count": 57,
     "metadata": {},
     "output_type": "execute_result"
    }
   ],
   "source": [
    "auc"
   ]
  },
  {
   "cell_type": "code",
   "execution_count": null,
   "metadata": {
    "collapsed": true
   },
   "outputs": [],
   "source": []
  }
 ],
 "metadata": {
  "kernelspec": {
   "display_name": "Python 3",
   "language": "python",
   "name": "python3"
  },
  "language_info": {
   "codemirror_mode": {
    "name": "ipython",
    "version": 3
   },
   "file_extension": ".py",
   "mimetype": "text/x-python",
   "name": "python",
   "nbconvert_exporter": "python",
   "pygments_lexer": "ipython3",
   "version": "3.6.3"
  }
 },
 "nbformat": 4,
 "nbformat_minor": 2
}
